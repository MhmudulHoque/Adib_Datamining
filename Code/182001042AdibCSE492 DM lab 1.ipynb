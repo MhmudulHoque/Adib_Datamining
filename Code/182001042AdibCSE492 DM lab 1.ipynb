{
 "metadata": {
  "language_info": {
   "codemirror_mode": {
    "name": "ipython",
    "version": 3
   },
   "file_extension": ".py",
   "mimetype": "text/x-python",
   "name": "python",
   "nbconvert_exporter": "python",
   "pygments_lexer": "ipython3",
   "version": "3.8.5-final"
  },
  "orig_nbformat": 2,
  "kernelspec": {
   "name": "python3",
   "display_name": "Python 3.8.5 64-bit (conda)",
   "metadata": {
    "interpreter": {
     "hash": "42588fd11209419b7c81abe23e31a1d2101f60811b02170c268e57ebb57d5d9a"
    }
   }
  }
 },
 "nbformat": 4,
 "nbformat_minor": 2,
 "cells": [
  {
   "cell_type": "code",
   "execution_count": 1,
   "metadata": {},
   "outputs": [
    {
     "output_type": "stream",
     "name": "stdout",
     "text": [
      "    Book   p1   p2 p3   p4 p5   p6 p7   p8\n0  book1  3.5    2  5    3  -    -  5    3\n1  book2    2  3.5  1    4  4  4.5  2    -\n2  book3    -    4  1  4.5  1    4  -    -\n3  book4  4.5    -  3    -  4    5  3    5\n4  book5    5    2  5    3  -    5  5    4\n5  book6  1.5  3.5  1  4.5  -  4.5  4  2.5\n6  book7  2.5    -  -    4  4    4  5    3\n7  book8    2    3  -    2  1    4  -    -\n"
     ]
    }
   ],
   "source": [
    "import pandas as pd\n",
    "dataframe = pd.read_csv(\"data/dataset_review.csv\")\n",
    "print(dataframe)"
   ]
  },
  {
   "cell_type": "code",
   "execution_count": 3,
   "metadata": {},
   "outputs": [
    {
     "output_type": "execute_result",
     "data": {
      "text/plain": [
       "    Book   p1   p2   p3   p4   p5   p6   p7   p8\n",
       "0  book1  3.5    2    5    3  NaN  NaN    5    3\n",
       "1  book2    2  3.5    1    4    4  4.5    2  NaN\n",
       "2  book3  NaN    4    1  4.5    1    4  NaN  NaN\n",
       "3  book4  4.5  NaN    3  NaN    4    5    3    5\n",
       "4  book5    5    2    5    3  NaN    5    5    4\n",
       "5  book6  1.5  3.5    1  4.5  NaN  4.5    4  2.5\n",
       "6  book7  2.5  NaN  NaN    4    4    4    5    3\n",
       "7  book8    2    3  NaN    2    1    4  NaN  NaN"
      ],
      "text/html": "<div>\n<style scoped>\n    .dataframe tbody tr th:only-of-type {\n        vertical-align: middle;\n    }\n\n    .dataframe tbody tr th {\n        vertical-align: top;\n    }\n\n    .dataframe thead th {\n        text-align: right;\n    }\n</style>\n<table border=\"1\" class=\"dataframe\">\n  <thead>\n    <tr style=\"text-align: right;\">\n      <th></th>\n      <th>Book</th>\n      <th>p1</th>\n      <th>p2</th>\n      <th>p3</th>\n      <th>p4</th>\n      <th>p5</th>\n      <th>p6</th>\n      <th>p7</th>\n      <th>p8</th>\n    </tr>\n  </thead>\n  <tbody>\n    <tr>\n      <th>0</th>\n      <td>book1</td>\n      <td>3.5</td>\n      <td>2</td>\n      <td>5</td>\n      <td>3</td>\n      <td>NaN</td>\n      <td>NaN</td>\n      <td>5</td>\n      <td>3</td>\n    </tr>\n    <tr>\n      <th>1</th>\n      <td>book2</td>\n      <td>2</td>\n      <td>3.5</td>\n      <td>1</td>\n      <td>4</td>\n      <td>4</td>\n      <td>4.5</td>\n      <td>2</td>\n      <td>NaN</td>\n    </tr>\n    <tr>\n      <th>2</th>\n      <td>book3</td>\n      <td>NaN</td>\n      <td>4</td>\n      <td>1</td>\n      <td>4.5</td>\n      <td>1</td>\n      <td>4</td>\n      <td>NaN</td>\n      <td>NaN</td>\n    </tr>\n    <tr>\n      <th>3</th>\n      <td>book4</td>\n      <td>4.5</td>\n      <td>NaN</td>\n      <td>3</td>\n      <td>NaN</td>\n      <td>4</td>\n      <td>5</td>\n      <td>3</td>\n      <td>5</td>\n    </tr>\n    <tr>\n      <th>4</th>\n      <td>book5</td>\n      <td>5</td>\n      <td>2</td>\n      <td>5</td>\n      <td>3</td>\n      <td>NaN</td>\n      <td>5</td>\n      <td>5</td>\n      <td>4</td>\n    </tr>\n    <tr>\n      <th>5</th>\n      <td>book6</td>\n      <td>1.5</td>\n      <td>3.5</td>\n      <td>1</td>\n      <td>4.5</td>\n      <td>NaN</td>\n      <td>4.5</td>\n      <td>4</td>\n      <td>2.5</td>\n    </tr>\n    <tr>\n      <th>6</th>\n      <td>book7</td>\n      <td>2.5</td>\n      <td>NaN</td>\n      <td>NaN</td>\n      <td>4</td>\n      <td>4</td>\n      <td>4</td>\n      <td>5</td>\n      <td>3</td>\n    </tr>\n    <tr>\n      <th>7</th>\n      <td>book8</td>\n      <td>2</td>\n      <td>3</td>\n      <td>NaN</td>\n      <td>2</td>\n      <td>1</td>\n      <td>4</td>\n      <td>NaN</td>\n      <td>NaN</td>\n    </tr>\n  </tbody>\n</table>\n</div>"
     },
     "metadata": {},
     "execution_count": 3
    }
   ],
   "source": [
    "df = dataframe.replace('-', float(\"nan\"))\n",
    "df"
   ]
  },
  {
   "cell_type": "code",
   "execution_count": 38,
   "metadata": {},
   "outputs": [
    {
     "output_type": "stream",
     "name": "stdout",
     "text": [
      "    Book   p1   p2\n0  book1  3.5    2\n1  book2    2  3.5\n2  book3  NaN    4\n3  book4  4.5  NaN\n4  book5    5    2\n5  book6  1.5  3.5\n6  book7  2.5  NaN\n7  book8    2    3\n"
     ]
    }
   ],
   "source": [
    "df1=df.drop([\"p8\",\"p7\",\"p6\",\"p5\",\"p4\",\"p3\"], axis=1)\n",
    "print(df1)"
   ]
  },
  {
   "cell_type": "code",
   "execution_count": 39,
   "metadata": {},
   "outputs": [
    {
     "output_type": "stream",
     "name": "stdout",
     "text": [
      "    Book   p1   p2\n0  book1  3.5    2\n1  book2    2  3.5\n2  book3  NaN    4\n4  book5    5    2\n5  book6  1.5  3.5\n7  book8    2    3\n"
     ]
    }
   ],
   "source": [
    "df1 = df1[df1[\"p2\"].notnull()]\n",
    "print(df1)"
   ]
  },
  {
   "cell_type": "code",
   "execution_count": 40,
   "metadata": {},
   "outputs": [
    {
     "output_type": "stream",
     "name": "stdout",
     "text": [
      "    Book   p1   p2\n0  book1  3.5    2\n1  book2    2  3.5\n4  book5    5    2\n5  book6  1.5  3.5\n7  book8    2    3\n"
     ]
    }
   ],
   "source": [
    "df1 = df1[df1[\"p1\"].notnull()]\n",
    "print(df1)"
   ]
  },
  {
   "cell_type": "code",
   "execution_count": 41,
   "metadata": {},
   "outputs": [
    {
     "output_type": "stream",
     "name": "stdout",
     "text": [
      "9.0\n4.301162633521313\n3.4965953285904336\n"
     ]
    }
   ],
   "source": [
    "from scipy.spatial import distance\n",
    "from scipy.spatial.distance import cityblock\n",
    "man_dist1 = distance.cityblock(df1['p1'].astype(float),df1['p2'].astype(float))\n",
    "euc_dist1 = distance.euclidean(df1['p1'].astype(float),df1['p2'].astype(float))\n",
    "mink_dist1 = distance.minkowski(df1['p1'].astype(float),df1['p2'].astype(float),p=3)\n",
    "print(man_dist1)\n",
    "print(euc_dist1)\n",
    "print(mink_dist1)"
   ]
  },
  {
   "cell_type": "code",
   "execution_count": 17,
   "metadata": {},
   "outputs": [
    {
     "output_type": "stream",
     "name": "stdout",
     "text": [
      "    Book   p1   p3\n0  book1  3.5    5\n1  book2    2    1\n2  book3  NaN    1\n3  book4  4.5    3\n4  book5    5    5\n5  book6  1.5    1\n6  book7  2.5  NaN\n7  book8    2  NaN\n"
     ]
    }
   ],
   "source": [
    "df2=df.drop([\"p8\",\"p7\",\"p6\",\"p5\",\"p4\",\"p2\"], axis=1)\n",
    "print(df2)"
   ]
  },
  {
   "cell_type": "code",
   "execution_count": 18,
   "metadata": {},
   "outputs": [
    {
     "output_type": "stream",
     "name": "stdout",
     "text": [
      "    Book   p1 p3\n0  book1  3.5  5\n1  book2    2  1\n2  book3  NaN  1\n3  book4  4.5  3\n4  book5    5  5\n5  book6  1.5  1\n"
     ]
    }
   ],
   "source": [
    "df2 = df2[df2[\"p3\"].notnull()]\n",
    "print(df2)"
   ]
  },
  {
   "cell_type": "code",
   "execution_count": 20,
   "metadata": {},
   "outputs": [
    {
     "output_type": "stream",
     "name": "stdout",
     "text": [
      "    Book   p1 p3\n0  book1  3.5  5\n1  book2    2  1\n3  book4  4.5  3\n4  book5    5  5\n5  book6  1.5  1\n"
     ]
    }
   ],
   "source": [
    "df2 = df2[df2[\"p1\"].notnull()]\n",
    "print(df2)"
   ]
  },
  {
   "cell_type": "code",
   "execution_count": 21,
   "metadata": {},
   "outputs": [
    {
     "output_type": "stream",
     "name": "stdout",
     "text": [
      "4.5\n2.3979157616563596\n1.9895286039481959\n"
     ]
    }
   ],
   "source": [
    "from scipy.spatial import distance\n",
    "from scipy.spatial.distance import cityblock\n",
    "man_dist = distance.cityblock(df1['p1'].astype(float),df1['p3'].astype(float))\n",
    "euc_dist = distance.euclidean(df1['p1'].astype(float),df1['p3'].astype(float))\n",
    "mink_dist = distance.minkowski(df1['p1'].astype(float),df1['p3'].astype(float),p=3)\n",
    "print(man_dist2)\n",
    "print(euc_dist2)\n",
    "print(mink_dist2)"
   ]
  },
  {
   "cell_type": "code",
   "execution_count": 10,
   "metadata": {},
   "outputs": [
    {
     "output_type": "stream",
     "name": "stdout",
     "text": [
      "    Book   p1   p4\n0  book1  3.5    3\n1  book2    2    4\n2  book3  NaN  4.5\n3  book4  4.5  NaN\n4  book5    5    3\n5  book6  1.5  4.5\n6  book7  2.5    4\n7  book8    2    2\n"
     ]
    }
   ],
   "source": [
    "df3=df.drop([\"p8\",\"p7\",\"p6\",\"p5\",\"p2\",\"p3\"], axis=1)\n",
    "print(df3)"
   ]
  },
  {
   "cell_type": "code",
   "execution_count": 11,
   "metadata": {},
   "outputs": [
    {
     "output_type": "stream",
     "name": "stdout",
     "text": [
      "    Book   p1   p4\n0  book1  3.5    3\n1  book2    2    4\n2  book3  NaN  4.5\n4  book5    5    3\n5  book6  1.5  4.5\n6  book7  2.5    4\n7  book8    2    2\n"
     ]
    }
   ],
   "source": [
    "df3 = df3[df3[\"p4\"].notnull()]\n",
    "print(df3)"
   ]
  },
  {
   "cell_type": "code",
   "execution_count": 12,
   "metadata": {},
   "outputs": [
    {
     "output_type": "stream",
     "name": "stdout",
     "text": [
      "    Book   p1   p4\n0  book1  3.5    3\n1  book2    2    4\n4  book5    5    3\n5  book6  1.5  4.5\n6  book7  2.5    4\n7  book8    2    2\n"
     ]
    }
   ],
   "source": [
    "df3 = df3[df3[\"p1\"].notnull()]\n",
    "print(df3)"
   ]
  },
  {
   "cell_type": "code",
   "execution_count": 13,
   "metadata": {},
   "outputs": [
    {
     "output_type": "stream",
     "name": "stdout",
     "text": [
      "9.0\n4.415880433163923\n3.5959831740739046\n"
     ]
    }
   ],
   "source": [
    "from scipy.spatial import distance\n",
    "from scipy.spatial.distance import cityblock\n",
    "man_dist3 = distance.cityblock(df1['p1'].astype(float),df1['p4'].astype(float))\n",
    "euc_dist3 = distance.euclidean(df1['p1'].astype(float),df1['p4'].astype(float))\n",
    "mink_dist3 = distance.minkowski(df1['p1'].astype(float),df1['p4'].astype(float),p=3)\n",
    "print(man_dist3)\n",
    "print(euc_dist3)\n",
    "print(mink_dist3)"
   ]
  },
  {
   "cell_type": "code",
   "execution_count": 22,
   "metadata": {},
   "outputs": [
    {
     "output_type": "stream",
     "name": "stdout",
     "text": [
      "    Book   p1   p5\n0  book1  3.5  NaN\n1  book2    2    4\n2  book3  NaN    1\n3  book4  4.5    4\n4  book5    5  NaN\n5  book6  1.5  NaN\n6  book7  2.5    4\n7  book8    2    1\n"
     ]
    }
   ],
   "source": [
    "df1=df.drop([\"p8\",\"p7\",\"p6\",\"p2\",\"p4\",\"p3\"], axis=1)\n",
    "print(df4)"
   ]
  },
  {
   "cell_type": "code",
   "execution_count": 23,
   "metadata": {},
   "outputs": [
    {
     "output_type": "stream",
     "name": "stdout",
     "text": [
      "    Book   p1 p5\n1  book2    2  4\n2  book3  NaN  1\n3  book4  4.5  4\n6  book7  2.5  4\n7  book8    2  1\n"
     ]
    }
   ],
   "source": [
    "df4 = df4[df4[\"p5\"].notnull()]\n",
    "print(df4)"
   ]
  },
  {
   "cell_type": "code",
   "execution_count": 24,
   "metadata": {},
   "outputs": [
    {
     "output_type": "stream",
     "name": "stdout",
     "text": [
      "    Book   p1 p5\n1  book2    2  4\n3  book4  4.5  4\n6  book7  2.5  4\n7  book8    2  1\n"
     ]
    }
   ],
   "source": [
    "df4 = df4[df4[\"p1\"].notnull()]\n",
    "print(df4)"
   ]
  },
  {
   "cell_type": "code",
   "execution_count": 25,
   "metadata": {},
   "outputs": [
    {
     "output_type": "stream",
     "name": "stdout",
     "text": [
      "5.0\n2.7386127875258306\n2.320794416806389\n"
     ]
    }
   ],
   "source": [
    "from scipy.spatial import distance\n",
    "from scipy.spatial.distance import cityblock\n",
    "man_dist4 = distance.cityblock(df1['p1'].astype(float),df1['p5'].astype(float))\n",
    "euc_dist4 = distance.euclidean(df1['p1'].astype(float),df1['p5'].astype(float))\n",
    "mink_dist4 = distance.minkowski(df1['p1'].astype(float),df1['p5'].astype(float),p=3)\n",
    "print(man_dist4)\n",
    "print(euc_dist4)\n",
    "print(mink_dist4)"
   ]
  },
  {
   "cell_type": "code",
   "execution_count": 26,
   "metadata": {},
   "outputs": [
    {
     "output_type": "stream",
     "name": "stdout",
     "text": [
      "    Book   p1   p6\n0  book1  3.5  NaN\n1  book2    2  4.5\n2  book3  NaN    4\n3  book4  4.5    5\n4  book5    5    5\n5  book6  1.5  4.5\n6  book7  2.5    4\n7  book8    2    4\n"
     ]
    }
   ],
   "source": [
    "df5=df.drop([\"p8\",\"p7\",\"p2\",\"p5\",\"p4\",\"p3\"], axis=1)\n",
    "print(df5)"
   ]
  },
  {
   "cell_type": "code",
   "execution_count": 27,
   "metadata": {},
   "outputs": [
    {
     "output_type": "stream",
     "name": "stdout",
     "text": [
      "    Book   p1   p6\n1  book2    2  4.5\n2  book3  NaN    4\n3  book4  4.5    5\n4  book5    5    5\n5  book6  1.5  4.5\n6  book7  2.5    4\n7  book8    2    4\n"
     ]
    }
   ],
   "source": [
    "df5 = df5[df5[\"p6\"].notnull()]\n",
    "print(df5)"
   ]
  },
  {
   "cell_type": "code",
   "execution_count": 28,
   "metadata": {},
   "outputs": [
    {
     "output_type": "stream",
     "name": "stdout",
     "text": [
      "    Book   p1   p6\n1  book2    2  4.5\n3  book4  4.5    5\n4  book5    5    5\n5  book6  1.5  4.5\n6  book7  2.5    4\n7  book8    2    4\n"
     ]
    }
   ],
   "source": [
    "df5 = df5[df5[\"p1\"].notnull()]\n",
    "print(df5)"
   ]
  },
  {
   "cell_type": "code",
   "execution_count": 29,
   "metadata": {},
   "outputs": [
    {
     "output_type": "stream",
     "name": "stdout",
     "text": [
      "9.5\n4.663689526544408\n3.782677386112564\n"
     ]
    }
   ],
   "source": [
    "from scipy.spatial import distance\n",
    "from scipy.spatial.distance import cityblock\n",
    "man_dist5 = distance.cityblock(df1['p1'].astype(float),df1['p6'].astype(float))\n",
    "euc_dist5 = distance.euclidean(df1['p1'].astype(float),df1['p6'].astype(float))\n",
    "mink_dist5 = distance.minkowski(df1['p1'].astype(float),df1['p6'].astype(float),p=3)\n",
    "print(man_dist5)\n",
    "print(euc_dist5)\n",
    "print(mink_dist5)"
   ]
  },
  {
   "cell_type": "code",
   "execution_count": 30,
   "metadata": {},
   "outputs": [
    {
     "output_type": "stream",
     "name": "stdout",
     "text": [
      "    Book   p1   p7\n0  book1  3.5    5\n1  book2    2    2\n2  book3  NaN  NaN\n3  book4  4.5    3\n4  book5    5    5\n5  book6  1.5    4\n6  book7  2.5    5\n7  book8    2  NaN\n"
     ]
    }
   ],
   "source": [
    "df6=df.drop([\"p8\",\"p2\",\"p6\",\"p5\",\"p4\",\"p3\"], axis=1)\n",
    "print(df6)"
   ]
  },
  {
   "cell_type": "code",
   "execution_count": 31,
   "metadata": {},
   "outputs": [
    {
     "output_type": "stream",
     "name": "stdout",
     "text": [
      "    Book   p1 p7\n0  book1  3.5  5\n1  book2    2  2\n3  book4  4.5  3\n4  book5    5  5\n5  book6  1.5  4\n6  book7  2.5  5\n"
     ]
    }
   ],
   "source": [
    "df6 = df6[df6[\"p7\"].notnull()]\n",
    "print(df6)"
   ]
  },
  {
   "cell_type": "code",
   "execution_count": 32,
   "metadata": {},
   "outputs": [
    {
     "output_type": "stream",
     "name": "stdout",
     "text": [
      "    Book   p1 p7\n0  book1  3.5  5\n1  book2    2  2\n3  book4  4.5  3\n4  book5    5  5\n5  book6  1.5  4\n6  book7  2.5  5\n"
     ]
    }
   ],
   "source": [
    "df6 = df6[df6[\"p1\"].notnull()]\n",
    "print(df6)"
   ]
  },
  {
   "cell_type": "code",
   "execution_count": 33,
   "metadata": {},
   "outputs": [
    {
     "output_type": "stream",
     "name": "stdout",
     "text": [
      "8.0\n4.12310562561766\n3.361975406798963\n"
     ]
    }
   ],
   "source": [
    "from scipy.spatial import distance\n",
    "from scipy.spatial.distance import cityblock\n",
    "man_dist6 = distance.cityblock(df1['p1'].astype(float),df1['p7'].astype(float))\n",
    "euc_dist6 = distance.euclidean(df1['p1'].astype(float),df1['p7'].astype(float))\n",
    "mink_dist6 = distance.minkowski(df1['p1'].astype(float),df1['p7'].astype(float),p=3)\n",
    "print(man_dist6)\n",
    "print(euc_dist6)\n",
    "print(mink_dist6)"
   ]
  },
  {
   "cell_type": "code",
   "execution_count": 34,
   "metadata": {},
   "outputs": [
    {
     "output_type": "stream",
     "name": "stdout",
     "text": [
      "    Book   p1   p8\n0  book1  3.5    3\n1  book2    2  NaN\n2  book3  NaN  NaN\n3  book4  4.5    5\n4  book5    5    4\n5  book6  1.5  2.5\n6  book7  2.5    3\n7  book8    2  NaN\n"
     ]
    }
   ],
   "source": [
    "df7=df.drop([\"p2\",\"p7\",\"p6\",\"p5\",\"p4\",\"p3\"], axis=1)\n",
    "print(df7)"
   ]
  },
  {
   "cell_type": "code",
   "execution_count": 35,
   "metadata": {},
   "outputs": [
    {
     "output_type": "stream",
     "name": "stdout",
     "text": [
      "    Book   p1   p8\n0  book1  3.5    3\n3  book4  4.5    5\n4  book5    5    4\n5  book6  1.5  2.5\n6  book7  2.5    3\n"
     ]
    }
   ],
   "source": [
    "df7 = df7[df1[\"p8\"].notnull()]\n",
    "print(df7)"
   ]
  },
  {
   "cell_type": "code",
   "execution_count": 36,
   "metadata": {},
   "outputs": [
    {
     "output_type": "stream",
     "name": "stdout",
     "text": [
      "    Book   p1   p8\n0  book1  3.5    3\n3  book4  4.5    5\n4  book5    5    4\n5  book6  1.5  2.5\n6  book7  2.5    3\n"
     ]
    }
   ],
   "source": [
    "df7 = df7[df7[\"p1\"].notnull()]\n",
    "print(df7)"
   ]
  },
  {
   "cell_type": "code",
   "execution_count": 37,
   "metadata": {},
   "outputs": [
    {
     "output_type": "stream",
     "name": "stdout",
     "text": [
      "3.5\n1.6583123951777\n1.3342008243609724\n"
     ]
    }
   ],
   "source": [
    "from scipy.spatial import distance\n",
    "from scipy.spatial.distance import cityblock\n",
    "man_dist7 = distance.cityblock(df1['p1'].astype(float),df1['p8'].astype(float))\n",
    "euc_dist7 = distance.euclidean(df1['p1'].astype(float),df1['p8'].astype(float))\n",
    "mink_dist7 = distance.minkowski(df1['p1'].astype(float),df1['p8'].astype(float),p=3)\n",
    "print(man_dist7)\n",
    "print(euc_dist7)\n",
    "print(mink_dist7)"
   ]
  },
  {
   "cell_type": "code",
   "execution_count": null,
   "metadata": {},
   "outputs": [],
   "source": [
    "print("p1 and p2")\n",
    "print(man_dist1)\n",
    "print(euc_dist1)\n",
    "print(mink_dist1)\n",
    "print("p1 and p3")\n",
    "print(man_dist2)\n",
    "print(euc_dist2)\n",
    "print(mink_dist2)\n",
    "print("p1 and p4")\n",
    "print(man_dist3)\n",
    "print(euc_dist3)\n",
    "print(mink_dist3)\n",
    "print("p1 and p5")\n",
    "print(man_dist4)\n",
    "print(euc_dist4)\n",
    "print(mink_dist4)\n",
    "print("p1 and p6")\n",
    "print(man_dist5)\n",
    "print(euc_dist5)\n",
    "print(mink_dist5)\n",
    "print("p1 and p7")\n",
    "print(man_dist6)\n",
    "print(euc_dist6)\n",
    "print(mink_dist6)\n",
    "print("p1 and p8")\n",
    "print(man_dist7)\n",
    "print(euc_dist7)\n",
    "print(mink_dist7)\n"
   ]
  }
 ]
}
