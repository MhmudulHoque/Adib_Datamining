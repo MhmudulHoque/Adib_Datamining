{
 "metadata": {
  "language_info": {
   "codemirror_mode": {
    "name": "ipython",
    "version": 3
   },
   "file_extension": ".py",
   "mimetype": "text/x-python",
   "name": "python",
   "nbconvert_exporter": "python",
   "pygments_lexer": "ipython3",
   "version": "3.8.5-final"
  },
  "orig_nbformat": 2,
  "kernelspec": {
   "name": "python3",
   "display_name": "Python 3.8.5 64-bit (conda)",
   "metadata": {
    "interpreter": {
     "hash": "b3ba2566441a7c06988d0923437866b63cedc61552a5af99d1f4fb67d367b25f"
    }
   }
  }
 },
 "nbformat": 4,
 "nbformat_minor": 2,
 "cells": [
  {
   "source": [
    "1. Using python library load the rainfall dataset in your notebook. [02]"
   ],
   "cell_type": "markdown",
   "metadata": {}
  },
  {
   "cell_type": "code",
   "execution_count": 1,
   "metadata": {},
   "outputs": [
    {
     "output_type": "stream",
     "name": "stdout",
     "text": [
      "     day  pressure  maxtemp  temparature  mintemp  dewpoint  humidity  cloud  \\\n0      1    1025.9     19.9         18.3     16.8      13.1        72     49   \n1      2    1022.0     21.7         18.9     17.2      15.6        81     83   \n2      3    1019.7     20.3         19.3     18.0      18.4        95     91   \n3      4    1018.9     22.3         20.6     19.1      18.8        90     88   \n4      5    1015.9     21.3         20.7     20.2      19.9        95     81   \n..   ...       ...      ...          ...      ...       ...       ...    ...   \n361   27    1022.7     18.8         17.7     16.9      15.0        84     90   \n362   28    1026.6     18.6         17.3     16.3      12.8        75     85   \n363   29    1025.9     18.9         17.7     16.4      13.3        75     78   \n364   30    1025.3     19.2         17.3     15.2      13.3        78     86   \n365   31    1026.4     20.5         17.8     15.5      13.0        74     66   \n\n    rainfall  sunshine  winddirection  windspeed  \n0        yes       9.3           80.0       26.3  \n1        yes       0.6           50.0       15.3  \n2        yes       0.0           40.0       14.2  \n3        yes       1.0           50.0       16.9  \n4        yes       0.0           40.0       13.7  \n..       ...       ...            ...        ...  \n361      yes       0.0           30.0       18.4  \n362      yes       1.0           20.0       25.9  \n363      yes       4.6           70.0       33.4  \n364      yes       1.2           20.0       20.9  \n365       no       5.7           20.0       23.3  \n\n[366 rows x 12 columns]\n"
     ]
    }
   ],
   "source": [
    "import pandas as pd\n",
    "dataframe = pd.read_csv(\"data/rainfall.csv\")\n",
    "print(dataframe)"
   ]
  },
  {
   "source": [
    "2. Print first 10-row data from the dataset.[02]\n"
   ],
   "cell_type": "markdown",
   "metadata": {}
  },
  {
   "cell_type": "code",
   "execution_count": 2,
   "metadata": {},
   "outputs": [
    {
     "output_type": "stream",
     "name": "stdout",
     "text": [
      "   day  pressure  maxtemp  temparature  mintemp  dewpoint  humidity  cloud  \\\n0    1    1025.9     19.9         18.3     16.8      13.1        72     49   \n1    2    1022.0     21.7         18.9     17.2      15.6        81     83   \n2    3    1019.7     20.3         19.3     18.0      18.4        95     91   \n3    4    1018.9     22.3         20.6     19.1      18.8        90     88   \n4    5    1015.9     21.3         20.7     20.2      19.9        95     81   \n5    6    1018.8     24.3         20.9     19.2      18.0        84     51   \n6    7    1021.8     21.4         18.8     17.0      15.0        79     56   \n7    8    1020.8     21.0         18.4     16.5      14.4        78     28   \n8    9    1020.6     18.9         18.1     17.1      14.3        78     79   \n9   10    1017.5     18.5         18.0     17.2      15.5        85     91   \n\n  rainfall  sunshine  winddirection  windspeed  \n0      yes       9.3           80.0       26.3  \n1      yes       0.6           50.0       15.3  \n2      yes       0.0           40.0       14.2  \n3      yes       1.0           50.0       16.9  \n4      yes       0.0           40.0       13.7  \n5      yes       7.7           20.0       14.5  \n6       no       3.4           30.0       21.5  \n7       no       7.7           60.0       14.3  \n8       no       3.3           70.0       39.3  \n9      yes       0.0           70.0       37.7  \n"
     ]
    }
   ],
   "source": [
    "print(dataframe.head(10))"
   ]
  },
  {
   "source": [
    "3. Print last 10-row data from the dataset.[02]"
   ],
   "cell_type": "markdown",
   "metadata": {}
  },
  {
   "cell_type": "code",
   "execution_count": 3,
   "metadata": {},
   "outputs": [
    {
     "output_type": "stream",
     "name": "stdout",
     "text": [
      "     day  pressure  maxtemp  temparature  mintemp  dewpoint  humidity  cloud  \\\n356   22    1020.3     20.6         19.9     18.7      17.6        87     88   \n357   23    1017.8     22.3         21.1     19.8      19.6        91     79   \n358   24    1016.8     24.7         22.3     21.1      20.7        91     70   \n359   25    1020.4     21.4         18.2     16.1      13.5        75     89   \n360   26    1020.6     19.7         17.9     16.9      13.3        74     87   \n361   27    1022.7     18.8         17.7     16.9      15.0        84     90   \n362   28    1026.6     18.6         17.3     16.3      12.8        75     85   \n363   29    1025.9     18.9         17.7     16.4      13.3        75     78   \n364   30    1025.3     19.2         17.3     15.2      13.3        78     86   \n365   31    1026.4     20.5         17.8     15.5      13.0        74     66   \n\n    rainfall  sunshine  winddirection  windspeed  \n356      yes       0.3           60.0       27.3  \n357      yes       0.0           40.0       15.0  \n358      yes       6.0           40.0        9.4  \n359      yes       0.7           10.0       27.6  \n360       no       0.6           30.0       21.6  \n361      yes       0.0           30.0       18.4  \n362      yes       1.0           20.0       25.9  \n363      yes       4.6           70.0       33.4  \n364      yes       1.2           20.0       20.9  \n365       no       5.7           20.0       23.3  \n"
     ]
    }
   ],
   "source": [
    "print(dataframe.tail(10))"
   ]
  },
  {
   "source": [
    "4. Print only column names. [01]\n"
   ],
   "cell_type": "markdown",
   "metadata": {}
  },
  {
   "cell_type": "code",
   "execution_count": 4,
   "metadata": {},
   "outputs": [
    {
     "output_type": "stream",
     "name": "stdout",
     "text": [
      "Index(['day', 'pressure', 'maxtemp', 'temparature', 'mintemp', 'dewpoint',\n       'humidity', 'cloud', 'rainfall', 'sunshine', 'winddirection',\n       'windspeed'],\n      dtype='object')\n"
     ]
    }
   ],
   "source": [
    "print(dataframe.columns)"
   ]
  },
  {
   "source": [
    "5. Print the datatypes of every column separately. [02]"
   ],
   "cell_type": "markdown",
   "metadata": {}
  },
  {
   "cell_type": "code",
   "execution_count": 5,
   "metadata": {},
   "outputs": [
    {
     "output_type": "stream",
     "name": "stdout",
     "text": [
      "day                int64\npressure         float64\nmaxtemp          float64\ntemparature      float64\nmintemp          float64\ndewpoint         float64\nhumidity           int64\ncloud              int64\nrainfall          object\nsunshine         float64\nwinddirection    float64\nwindspeed        float64\ndtype: object\n"
     ]
    }
   ],
   "source": [
    "print(dataframe.dtypes)"
   ]
  },
  {
   "source": [
    "6. Convert the sunshine column’s zero value to the “Nan” type. [02]"
   ],
   "cell_type": "markdown",
   "metadata": {}
  },
  {
   "cell_type": "code",
   "execution_count": 6,
   "metadata": {},
   "outputs": [
    {
     "output_type": "execute_result",
     "data": {
      "text/plain": [
       "     day  pressure  maxtemp  temparature  mintemp  dewpoint  humidity  cloud  \\\n",
       "0      1    1025.9     19.9         18.3     16.8      13.1        72     49   \n",
       "1      2    1022.0     21.7         18.9     17.2      15.6        81     83   \n",
       "2      3    1019.7     20.3         19.3     18.0      18.4        95     91   \n",
       "3      4    1018.9     22.3         20.6     19.1      18.8        90     88   \n",
       "4      5    1015.9     21.3         20.7     20.2      19.9        95     81   \n",
       "..   ...       ...      ...          ...      ...       ...       ...    ...   \n",
       "361   27    1022.7     18.8         17.7     16.9      15.0        84     90   \n",
       "362   28    1026.6     18.6         17.3     16.3      12.8        75     85   \n",
       "363   29    1025.9     18.9         17.7     16.4      13.3        75     78   \n",
       "364   30    1025.3     19.2         17.3     15.2      13.3        78     86   \n",
       "365   31    1026.4     20.5         17.8     15.5      13.0        74     66   \n",
       "\n",
       "    rainfall  sunshine  winddirection  windspeed  \n",
       "0        yes       9.3           80.0       26.3  \n",
       "1        yes       0.6           50.0       15.3  \n",
       "2        yes       0.0           40.0       14.2  \n",
       "3        yes       1.0           50.0       16.9  \n",
       "4        yes       0.0           40.0       13.7  \n",
       "..       ...       ...            ...        ...  \n",
       "361      yes       0.0           30.0       18.4  \n",
       "362      yes       1.0           20.0       25.9  \n",
       "363      yes       4.6           70.0       33.4  \n",
       "364      yes       1.2           20.0       20.9  \n",
       "365       no       5.7           20.0       23.3  \n",
       "\n",
       "[366 rows x 12 columns]"
      ],
      "text/html": "<div>\n<style scoped>\n    .dataframe tbody tr th:only-of-type {\n        vertical-align: middle;\n    }\n\n    .dataframe tbody tr th {\n        vertical-align: top;\n    }\n\n    .dataframe thead th {\n        text-align: right;\n    }\n</style>\n<table border=\"1\" class=\"dataframe\">\n  <thead>\n    <tr style=\"text-align: right;\">\n      <th></th>\n      <th>day</th>\n      <th>pressure</th>\n      <th>maxtemp</th>\n      <th>temparature</th>\n      <th>mintemp</th>\n      <th>dewpoint</th>\n      <th>humidity</th>\n      <th>cloud</th>\n      <th>rainfall</th>\n      <th>sunshine</th>\n      <th>winddirection</th>\n      <th>windspeed</th>\n    </tr>\n  </thead>\n  <tbody>\n    <tr>\n      <th>0</th>\n      <td>1</td>\n      <td>1025.9</td>\n      <td>19.9</td>\n      <td>18.3</td>\n      <td>16.8</td>\n      <td>13.1</td>\n      <td>72</td>\n      <td>49</td>\n      <td>yes</td>\n      <td>9.3</td>\n      <td>80.0</td>\n      <td>26.3</td>\n    </tr>\n    <tr>\n      <th>1</th>\n      <td>2</td>\n      <td>1022.0</td>\n      <td>21.7</td>\n      <td>18.9</td>\n      <td>17.2</td>\n      <td>15.6</td>\n      <td>81</td>\n      <td>83</td>\n      <td>yes</td>\n      <td>0.6</td>\n      <td>50.0</td>\n      <td>15.3</td>\n    </tr>\n    <tr>\n      <th>2</th>\n      <td>3</td>\n      <td>1019.7</td>\n      <td>20.3</td>\n      <td>19.3</td>\n      <td>18.0</td>\n      <td>18.4</td>\n      <td>95</td>\n      <td>91</td>\n      <td>yes</td>\n      <td>0.0</td>\n      <td>40.0</td>\n      <td>14.2</td>\n    </tr>\n    <tr>\n      <th>3</th>\n      <td>4</td>\n      <td>1018.9</td>\n      <td>22.3</td>\n      <td>20.6</td>\n      <td>19.1</td>\n      <td>18.8</td>\n      <td>90</td>\n      <td>88</td>\n      <td>yes</td>\n      <td>1.0</td>\n      <td>50.0</td>\n      <td>16.9</td>\n    </tr>\n    <tr>\n      <th>4</th>\n      <td>5</td>\n      <td>1015.9</td>\n      <td>21.3</td>\n      <td>20.7</td>\n      <td>20.2</td>\n      <td>19.9</td>\n      <td>95</td>\n      <td>81</td>\n      <td>yes</td>\n      <td>0.0</td>\n      <td>40.0</td>\n      <td>13.7</td>\n    </tr>\n    <tr>\n      <th>...</th>\n      <td>...</td>\n      <td>...</td>\n      <td>...</td>\n      <td>...</td>\n      <td>...</td>\n      <td>...</td>\n      <td>...</td>\n      <td>...</td>\n      <td>...</td>\n      <td>...</td>\n      <td>...</td>\n      <td>...</td>\n    </tr>\n    <tr>\n      <th>361</th>\n      <td>27</td>\n      <td>1022.7</td>\n      <td>18.8</td>\n      <td>17.7</td>\n      <td>16.9</td>\n      <td>15.0</td>\n      <td>84</td>\n      <td>90</td>\n      <td>yes</td>\n      <td>0.0</td>\n      <td>30.0</td>\n      <td>18.4</td>\n    </tr>\n    <tr>\n      <th>362</th>\n      <td>28</td>\n      <td>1026.6</td>\n      <td>18.6</td>\n      <td>17.3</td>\n      <td>16.3</td>\n      <td>12.8</td>\n      <td>75</td>\n      <td>85</td>\n      <td>yes</td>\n      <td>1.0</td>\n      <td>20.0</td>\n      <td>25.9</td>\n    </tr>\n    <tr>\n      <th>363</th>\n      <td>29</td>\n      <td>1025.9</td>\n      <td>18.9</td>\n      <td>17.7</td>\n      <td>16.4</td>\n      <td>13.3</td>\n      <td>75</td>\n      <td>78</td>\n      <td>yes</td>\n      <td>4.6</td>\n      <td>70.0</td>\n      <td>33.4</td>\n    </tr>\n    <tr>\n      <th>364</th>\n      <td>30</td>\n      <td>1025.3</td>\n      <td>19.2</td>\n      <td>17.3</td>\n      <td>15.2</td>\n      <td>13.3</td>\n      <td>78</td>\n      <td>86</td>\n      <td>yes</td>\n      <td>1.2</td>\n      <td>20.0</td>\n      <td>20.9</td>\n    </tr>\n    <tr>\n      <th>365</th>\n      <td>31</td>\n      <td>1026.4</td>\n      <td>20.5</td>\n      <td>17.8</td>\n      <td>15.5</td>\n      <td>13.0</td>\n      <td>74</td>\n      <td>66</td>\n      <td>no</td>\n      <td>5.7</td>\n      <td>20.0</td>\n      <td>23.3</td>\n    </tr>\n  </tbody>\n</table>\n<p>366 rows × 12 columns</p>\n</div>"
     },
     "metadata": {},
     "execution_count": 6
    }
   ],
   "source": [
    "df = dataframe.replace('sunshine', float(\"nan\"))\n",
    "df"
   ]
  },
  {
   "source": [
    "7. Drop rows with the “Nan” value.[02]"
   ],
   "cell_type": "markdown",
   "metadata": {}
  },
  {
   "cell_type": "code",
   "execution_count": null,
   "metadata": {},
   "outputs": [],
   "source": [
    "cdf = df.dropna()\n",
    "print(cdf)"
   ]
  },
  {
   "source": [
    "8. Drop the column which you don’t need to measure similarities and distances and write\n",
    "why you drop that one. [02]\n"
   ],
   "cell_type": "markdown",
   "metadata": {}
  },
  {
   "cell_type": "code",
   "execution_count": null,
   "metadata": {},
   "outputs": [],
   "source": [
    "df1=cdf.drop([\"day\",\"pressure\",\"maxtemp\",\"temparature\",\"mintemp\",\"dewpoint\",\"humidity\",\"rainfall\",\"winddirection\",\"windspeed\"], axis=1)\n",
    "print(df1)"
   ]
  },
  {
   "source": [
    "Only cloud cover is kept for comparison as it is the most appropriate attribute to correlate with sunshine"
   ],
   "cell_type": "markdown",
   "metadata": {}
  },
  {
   "source": [
    "9. Draw a scatter plot between two columns of which you think they have any correlation.\n",
    "And explain why.[02]"
   ],
   "cell_type": "markdown",
   "metadata": {}
  },
  {
   "cell_type": "code",
   "execution_count": null,
   "metadata": {},
   "outputs": [],
   "source": [
    "import matplotlib.pyplot as plt\n",
    "plt.scatter(cdf.cloud,cdf.sunshine)\n",
    "plt.xlabel('cloud')\n",
    "plt.ylabel('sunshine')\n",
    "plt.show()"
   ]
  },
  {
   "source": [
    "As you can see, more cloud means less sunshine from scatterplot. This is known to be correct from practical experience."
   ],
   "cell_type": "markdown",
   "metadata": {}
  },
  {
   "source": [
    "10. Drop other columns and print the dataset.[02]"
   ],
   "cell_type": "markdown",
   "metadata": {}
  },
  {
   "cell_type": "code",
   "execution_count": null,
   "metadata": {},
   "outputs": [],
   "source": [
    "df1=cdf.drop([\"day\",\"pressure\",\"maxtemp\",\"temparature\",\"mintemp\",\"dewpoint\",\"humidity\",\"rainfall\",\"winddirection\",\"windspeed\"], axis=1)\n",
    "print(df1)"
   ]
  },
  {
   "source": [
    "11. Calculate covariance and correlation among those two columns(of q.9)[06]"
   ],
   "cell_type": "markdown",
   "metadata": {}
  },
  {
   "cell_type": "code",
   "execution_count": null,
   "metadata": {},
   "outputs": [],
   "source": [
    "import numpy as np\n",
    "a=np.cov(cdf.cloud,cdf.sunshine)\n",
    "print(\"covariance:\")\n",
    "print(a[0,1])\n",
    "def pearson(x,y):\n",
    " correlation_matrix=np.corrcoef(x,y)\n",
    " return correlation_matrix[0,1]\n",
    "r = pearson(df.cloud,df.sunshine)\n",
    "print(\"correlation: \")\n",
    "print(r)\n",
    "print(\"This means that negative covariance and corrleation so cloud cover and sunshine are inversely proportional\")\n"
   ]
  },
  {
   "cell_type": "code",
   "execution_count": null,
   "metadata": {},
   "outputs": [],
   "source": []
  }
 ]
}